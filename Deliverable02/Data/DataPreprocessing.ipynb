{
 "cells": [
  {
   "cell_type": "markdown",
   "id": "4490d186-7ec1-4f3a-a6d2-353120a12b8f",
   "metadata": {},
   "source": [
    "# Organize and Preprocess Data"
   ]
  },
  {
   "cell_type": "code",
   "execution_count": 1,
   "id": "5ee34f67-79bc-4057-b63e-092f1214c5ec",
   "metadata": {},
   "outputs": [],
   "source": [
    "import pandas as pd"
   ]
  },
  {
   "cell_type": "markdown",
   "id": "c4f0cb15-9391-4368-a877-7b959cd8be95",
   "metadata": {},
   "source": [
    "# By the minute"
   ]
  },
  {
   "cell_type": "markdown",
   "id": "2386ca2f-2db7-4f71-be1b-7698ed6824ef",
   "metadata": {},
   "source": [
    "### Training Data"
   ]
  },
  {
   "cell_type": "code",
   "execution_count": 2,
   "id": "0e042b11-0094-4564-be0b-79125c59daf6",
   "metadata": {},
   "outputs": [],
   "source": [
    "df_2017min = pd.read_csv('BTC-2017min.csv')\n",
    "df_2018min = pd.read_csv('BTC-2018min.csv')\n",
    "df_2019min = pd.read_csv('BTC-2019min.csv')"
   ]
  },
  {
   "cell_type": "code",
   "execution_count": 3,
   "id": "08975c99-5d3a-47ca-b439-8c4bb75b6031",
   "metadata": {},
   "outputs": [],
   "source": [
    "df_train_min = pd.concat([df_2017min, df_2018min, df_2019min], axis=0, ignore_index=True)"
   ]
  },
  {
   "cell_type": "code",
   "execution_count": 4,
   "id": "8ab425c5-9af6-4383-9650-c057f0d66ba5",
   "metadata": {},
   "outputs": [
    {
     "data": {
      "text/plain": [
       "(1576797, 9)"
      ]
     },
     "execution_count": 4,
     "metadata": {},
     "output_type": "execute_result"
    }
   ],
   "source": [
    "df_train_min.shape"
   ]
  },
  {
   "cell_type": "code",
   "execution_count": 5,
   "id": "e09f5e74-924a-4de0-b8d7-0fe0945c14da",
   "metadata": {},
   "outputs": [
    {
     "data": {
      "text/html": [
       "<div>\n",
       "<style scoped>\n",
       "    .dataframe tbody tr th:only-of-type {\n",
       "        vertical-align: middle;\n",
       "    }\n",
       "\n",
       "    .dataframe tbody tr th {\n",
       "        vertical-align: top;\n",
       "    }\n",
       "\n",
       "    .dataframe thead th {\n",
       "        text-align: right;\n",
       "    }\n",
       "</style>\n",
       "<table border=\"1\" class=\"dataframe\">\n",
       "  <thead>\n",
       "    <tr style=\"text-align: right;\">\n",
       "      <th></th>\n",
       "      <th>unix</th>\n",
       "      <th>open</th>\n",
       "      <th>high</th>\n",
       "      <th>low</th>\n",
       "      <th>close</th>\n",
       "      <th>Volume BTC</th>\n",
       "      <th>Volume USD</th>\n",
       "    </tr>\n",
       "  </thead>\n",
       "  <tbody>\n",
       "    <tr>\n",
       "      <th>count</th>\n",
       "      <td>1.576797e+06</td>\n",
       "      <td>1.576797e+06</td>\n",
       "      <td>1.576797e+06</td>\n",
       "      <td>1.576797e+06</td>\n",
       "      <td>1.576797e+06</td>\n",
       "      <td>1.576797e+06</td>\n",
       "      <td>1.576797e+06</td>\n",
       "    </tr>\n",
       "    <tr>\n",
       "      <th>mean</th>\n",
       "      <td>1.530533e+09</td>\n",
       "      <td>6.275219e+03</td>\n",
       "      <td>6.279739e+03</td>\n",
       "      <td>6.270242e+03</td>\n",
       "      <td>6.275095e+03</td>\n",
       "      <td>7.369205e+00</td>\n",
       "      <td>4.797548e+04</td>\n",
       "    </tr>\n",
       "    <tr>\n",
       "      <th>std</th>\n",
       "      <td>2.731098e+07</td>\n",
       "      <td>3.485094e+03</td>\n",
       "      <td>3.489047e+03</td>\n",
       "      <td>3.480548e+03</td>\n",
       "      <td>3.484974e+03</td>\n",
       "      <td>1.826041e+01</td>\n",
       "      <td>1.312172e+05</td>\n",
       "    </tr>\n",
       "    <tr>\n",
       "      <th>min</th>\n",
       "      <td>1.483229e+09</td>\n",
       "      <td>7.520000e+02</td>\n",
       "      <td>7.528100e+02</td>\n",
       "      <td>7.513400e+02</td>\n",
       "      <td>7.520400e+02</td>\n",
       "      <td>0.000000e+00</td>\n",
       "      <td>0.000000e+00</td>\n",
       "    </tr>\n",
       "    <tr>\n",
       "      <th>25%</th>\n",
       "      <td>1.506881e+09</td>\n",
       "      <td>3.630070e+03</td>\n",
       "      <td>3.631660e+03</td>\n",
       "      <td>3.628540e+03</td>\n",
       "      <td>3.630120e+03</td>\n",
       "      <td>2.925311e-01</td>\n",
       "      <td>1.405761e+03</td>\n",
       "    </tr>\n",
       "    <tr>\n",
       "      <th>50%</th>\n",
       "      <td>1.530533e+09</td>\n",
       "      <td>6.419660e+03</td>\n",
       "      <td>6.421190e+03</td>\n",
       "      <td>6.417780e+03</td>\n",
       "      <td>6.419730e+03</td>\n",
       "      <td>1.908046e+00</td>\n",
       "      <td>9.927425e+03</td>\n",
       "    </tr>\n",
       "    <tr>\n",
       "      <th>75%</th>\n",
       "      <td>1.554185e+09</td>\n",
       "      <td>8.388420e+03</td>\n",
       "      <td>8.395850e+03</td>\n",
       "      <td>8.380120e+03</td>\n",
       "      <td>8.388000e+03</td>\n",
       "      <td>7.048195e+00</td>\n",
       "      <td>4.006312e+04</td>\n",
       "    </tr>\n",
       "    <tr>\n",
       "      <th>max</th>\n",
       "      <td>1.577837e+09</td>\n",
       "      <td>1.966576e+04</td>\n",
       "      <td>1.966600e+04</td>\n",
       "      <td>1.964996e+04</td>\n",
       "      <td>1.966575e+04</td>\n",
       "      <td>1.616060e+03</td>\n",
       "      <td>7.719620e+06</td>\n",
       "    </tr>\n",
       "  </tbody>\n",
       "</table>\n",
       "</div>"
      ],
      "text/plain": [
       "               unix          open          high           low         close  \\\n",
       "count  1.576797e+06  1.576797e+06  1.576797e+06  1.576797e+06  1.576797e+06   \n",
       "mean   1.530533e+09  6.275219e+03  6.279739e+03  6.270242e+03  6.275095e+03   \n",
       "std    2.731098e+07  3.485094e+03  3.489047e+03  3.480548e+03  3.484974e+03   \n",
       "min    1.483229e+09  7.520000e+02  7.528100e+02  7.513400e+02  7.520400e+02   \n",
       "25%    1.506881e+09  3.630070e+03  3.631660e+03  3.628540e+03  3.630120e+03   \n",
       "50%    1.530533e+09  6.419660e+03  6.421190e+03  6.417780e+03  6.419730e+03   \n",
       "75%    1.554185e+09  8.388420e+03  8.395850e+03  8.380120e+03  8.388000e+03   \n",
       "max    1.577837e+09  1.966576e+04  1.966600e+04  1.964996e+04  1.966575e+04   \n",
       "\n",
       "         Volume BTC    Volume USD  \n",
       "count  1.576797e+06  1.576797e+06  \n",
       "mean   7.369205e+00  4.797548e+04  \n",
       "std    1.826041e+01  1.312172e+05  \n",
       "min    0.000000e+00  0.000000e+00  \n",
       "25%    2.925311e-01  1.405761e+03  \n",
       "50%    1.908046e+00  9.927425e+03  \n",
       "75%    7.048195e+00  4.006312e+04  \n",
       "max    1.616060e+03  7.719620e+06  "
      ]
     },
     "execution_count": 5,
     "metadata": {},
     "output_type": "execute_result"
    }
   ],
   "source": [
    "df_train_min.describe()"
   ]
  },
  {
   "cell_type": "code",
   "execution_count": 6,
   "id": "76ffeabc-cedc-47f1-84de-6b359da663ec",
   "metadata": {},
   "outputs": [
    {
     "name": "stdout",
     "output_type": "stream",
     "text": [
      "<class 'pandas.core.frame.DataFrame'>\n",
      "RangeIndex: 1576797 entries, 0 to 1576796\n",
      "Data columns (total 9 columns):\n",
      " #   Column      Non-Null Count    Dtype  \n",
      "---  ------      --------------    -----  \n",
      " 0   unix        1576797 non-null  int64  \n",
      " 1   date        1576797 non-null  object \n",
      " 2   symbol      1576797 non-null  object \n",
      " 3   open        1576797 non-null  float64\n",
      " 4   high        1576797 non-null  float64\n",
      " 5   low         1576797 non-null  float64\n",
      " 6   close       1576797 non-null  float64\n",
      " 7   Volume BTC  1576797 non-null  float64\n",
      " 8   Volume USD  1576797 non-null  float64\n",
      "dtypes: float64(6), int64(1), object(2)\n",
      "memory usage: 108.3+ MB\n"
     ]
    }
   ],
   "source": [
    "df_train_min.info()"
   ]
  },
  {
   "cell_type": "code",
   "execution_count": 7,
   "id": "534b1257-34f4-4b35-b5ff-6737d1341aba",
   "metadata": {},
   "outputs": [
    {
     "data": {
      "text/plain": [
       "unix          0\n",
       "date          0\n",
       "symbol        0\n",
       "open          0\n",
       "high          0\n",
       "low           0\n",
       "close         0\n",
       "Volume BTC    0\n",
       "Volume USD    0\n",
       "dtype: int64"
      ]
     },
     "execution_count": 7,
     "metadata": {},
     "output_type": "execute_result"
    }
   ],
   "source": [
    "df_train_min.isnull().sum()"
   ]
  },
  {
   "cell_type": "code",
   "execution_count": 8,
   "id": "a5400d3e-52e9-4442-995d-1e3594c1e79a",
   "metadata": {},
   "outputs": [
    {
     "data": {
      "text/html": [
       "<div>\n",
       "<style scoped>\n",
       "    .dataframe tbody tr th:only-of-type {\n",
       "        vertical-align: middle;\n",
       "    }\n",
       "\n",
       "    .dataframe tbody tr th {\n",
       "        vertical-align: top;\n",
       "    }\n",
       "\n",
       "    .dataframe thead th {\n",
       "        text-align: right;\n",
       "    }\n",
       "</style>\n",
       "<table border=\"1\" class=\"dataframe\">\n",
       "  <thead>\n",
       "    <tr style=\"text-align: right;\">\n",
       "      <th></th>\n",
       "      <th>unix</th>\n",
       "      <th>date</th>\n",
       "      <th>symbol</th>\n",
       "      <th>open</th>\n",
       "      <th>high</th>\n",
       "      <th>low</th>\n",
       "      <th>close</th>\n",
       "      <th>Volume BTC</th>\n",
       "      <th>Volume USD</th>\n",
       "    </tr>\n",
       "  </thead>\n",
       "  <tbody>\n",
       "    <tr>\n",
       "      <th>8924</th>\n",
       "      <td>1514229300</td>\n",
       "      <td>2017-12-25 19:15:00</td>\n",
       "      <td>BTC/USD</td>\n",
       "      <td>14030.01</td>\n",
       "      <td>14030.01</td>\n",
       "      <td>14030.01</td>\n",
       "      <td>14030.01</td>\n",
       "      <td>0.0</td>\n",
       "      <td>0.0</td>\n",
       "    </tr>\n",
       "    <tr>\n",
       "      <th>9869</th>\n",
       "      <td>1514172600</td>\n",
       "      <td>2017-12-25 03:30:00</td>\n",
       "      <td>BTC/USD</td>\n",
       "      <td>13739.64</td>\n",
       "      <td>13739.64</td>\n",
       "      <td>13739.64</td>\n",
       "      <td>13739.64</td>\n",
       "      <td>0.0</td>\n",
       "      <td>0.0</td>\n",
       "    </tr>\n",
       "    <tr>\n",
       "      <th>9952</th>\n",
       "      <td>1514167620</td>\n",
       "      <td>2017-12-25 02:07:00</td>\n",
       "      <td>BTC/USD</td>\n",
       "      <td>13918.72</td>\n",
       "      <td>13918.72</td>\n",
       "      <td>13918.72</td>\n",
       "      <td>13918.72</td>\n",
       "      <td>0.0</td>\n",
       "      <td>0.0</td>\n",
       "    </tr>\n",
       "    <tr>\n",
       "      <th>13076</th>\n",
       "      <td>1513980180</td>\n",
       "      <td>2017-12-22 22:03:00</td>\n",
       "      <td>BTC/USD</td>\n",
       "      <td>14199.00</td>\n",
       "      <td>14199.00</td>\n",
       "      <td>14199.00</td>\n",
       "      <td>14199.00</td>\n",
       "      <td>0.0</td>\n",
       "      <td>0.0</td>\n",
       "    </tr>\n",
       "    <tr>\n",
       "      <th>13077</th>\n",
       "      <td>1513980120</td>\n",
       "      <td>2017-12-22 22:02:00</td>\n",
       "      <td>BTC/USD</td>\n",
       "      <td>14199.00</td>\n",
       "      <td>14199.00</td>\n",
       "      <td>14199.00</td>\n",
       "      <td>14199.00</td>\n",
       "      <td>0.0</td>\n",
       "      <td>0.0</td>\n",
       "    </tr>\n",
       "    <tr>\n",
       "      <th>...</th>\n",
       "      <td>...</td>\n",
       "      <td>...</td>\n",
       "      <td>...</td>\n",
       "      <td>...</td>\n",
       "      <td>...</td>\n",
       "      <td>...</td>\n",
       "      <td>...</td>\n",
       "      <td>...</td>\n",
       "      <td>...</td>\n",
       "    </tr>\n",
       "    <tr>\n",
       "      <th>1576780</th>\n",
       "      <td>1546301820</td>\n",
       "      <td>2019-01-01 00:17:00</td>\n",
       "      <td>BTC/USD</td>\n",
       "      <td>3687.96</td>\n",
       "      <td>3687.96</td>\n",
       "      <td>3687.96</td>\n",
       "      <td>3687.96</td>\n",
       "      <td>0.0</td>\n",
       "      <td>0.0</td>\n",
       "    </tr>\n",
       "    <tr>\n",
       "      <th>1576783</th>\n",
       "      <td>1546301640</td>\n",
       "      <td>2019-01-01 00:14:00</td>\n",
       "      <td>BTC/USD</td>\n",
       "      <td>3694.96</td>\n",
       "      <td>3694.96</td>\n",
       "      <td>3694.96</td>\n",
       "      <td>3694.96</td>\n",
       "      <td>0.0</td>\n",
       "      <td>0.0</td>\n",
       "    </tr>\n",
       "    <tr>\n",
       "      <th>1576784</th>\n",
       "      <td>1546301580</td>\n",
       "      <td>2019-01-01 00:13:00</td>\n",
       "      <td>BTC/USD</td>\n",
       "      <td>3694.96</td>\n",
       "      <td>3694.96</td>\n",
       "      <td>3694.96</td>\n",
       "      <td>3694.96</td>\n",
       "      <td>0.0</td>\n",
       "      <td>0.0</td>\n",
       "    </tr>\n",
       "    <tr>\n",
       "      <th>1576785</th>\n",
       "      <td>1546301520</td>\n",
       "      <td>2019-01-01 00:12:00</td>\n",
       "      <td>BTC/USD</td>\n",
       "      <td>3694.96</td>\n",
       "      <td>3694.96</td>\n",
       "      <td>3694.96</td>\n",
       "      <td>3694.96</td>\n",
       "      <td>0.0</td>\n",
       "      <td>0.0</td>\n",
       "    </tr>\n",
       "    <tr>\n",
       "      <th>1576786</th>\n",
       "      <td>1546301460</td>\n",
       "      <td>2019-01-01 00:11:00</td>\n",
       "      <td>BTC/USD</td>\n",
       "      <td>3694.96</td>\n",
       "      <td>3694.96</td>\n",
       "      <td>3694.96</td>\n",
       "      <td>3694.96</td>\n",
       "      <td>0.0</td>\n",
       "      <td>0.0</td>\n",
       "    </tr>\n",
       "  </tbody>\n",
       "</table>\n",
       "<p>79782 rows × 9 columns</p>\n",
       "</div>"
      ],
      "text/plain": [
       "               unix                 date   symbol      open      high  \\\n",
       "8924     1514229300  2017-12-25 19:15:00  BTC/USD  14030.01  14030.01   \n",
       "9869     1514172600  2017-12-25 03:30:00  BTC/USD  13739.64  13739.64   \n",
       "9952     1514167620  2017-12-25 02:07:00  BTC/USD  13918.72  13918.72   \n",
       "13076    1513980180  2017-12-22 22:03:00  BTC/USD  14199.00  14199.00   \n",
       "13077    1513980120  2017-12-22 22:02:00  BTC/USD  14199.00  14199.00   \n",
       "...             ...                  ...      ...       ...       ...   \n",
       "1576780  1546301820  2019-01-01 00:17:00  BTC/USD   3687.96   3687.96   \n",
       "1576783  1546301640  2019-01-01 00:14:00  BTC/USD   3694.96   3694.96   \n",
       "1576784  1546301580  2019-01-01 00:13:00  BTC/USD   3694.96   3694.96   \n",
       "1576785  1546301520  2019-01-01 00:12:00  BTC/USD   3694.96   3694.96   \n",
       "1576786  1546301460  2019-01-01 00:11:00  BTC/USD   3694.96   3694.96   \n",
       "\n",
       "              low     close  Volume BTC  Volume USD  \n",
       "8924     14030.01  14030.01         0.0         0.0  \n",
       "9869     13739.64  13739.64         0.0         0.0  \n",
       "9952     13918.72  13918.72         0.0         0.0  \n",
       "13076    14199.00  14199.00         0.0         0.0  \n",
       "13077    14199.00  14199.00         0.0         0.0  \n",
       "...           ...       ...         ...         ...  \n",
       "1576780   3687.96   3687.96         0.0         0.0  \n",
       "1576783   3694.96   3694.96         0.0         0.0  \n",
       "1576784   3694.96   3694.96         0.0         0.0  \n",
       "1576785   3694.96   3694.96         0.0         0.0  \n",
       "1576786   3694.96   3694.96         0.0         0.0  \n",
       "\n",
       "[79782 rows x 9 columns]"
      ]
     },
     "execution_count": 8,
     "metadata": {},
     "output_type": "execute_result"
    }
   ],
   "source": [
    "df_train_min[df_train_min['Volume BTC'] == 0]"
   ]
  },
  {
   "cell_type": "code",
   "execution_count": 9,
   "id": "2e0c7120-b9ac-472c-a7af-6c4f51bd8e09",
   "metadata": {},
   "outputs": [
    {
     "name": "stdout",
     "output_type": "stream",
     "text": [
      "Max date: 2019-12-31 23:59:00\n",
      "Min date: 2017-01-01 00:01:00\n"
     ]
    }
   ],
   "source": [
    "df_train_min['date'] = pd.to_datetime(df_train_min['date'])\n",
    "print(\"Max date:\", df_train_min['date'].max())\n",
    "print(\"Min date:\", df_train_min['date'].min())\n"
   ]
  },
  {
   "cell_type": "code",
   "execution_count": 10,
   "id": "6808096e-9bb4-41cb-8324-5a641c8b1a17",
   "metadata": {},
   "outputs": [],
   "source": [
    "df_train_minSorted= df_train_min.sort_values(by='date', ascending=True)"
   ]
  },
  {
   "cell_type": "code",
   "execution_count": 11,
   "id": "150e6d20-400b-4192-89d2-7171a3500a42",
   "metadata": {},
   "outputs": [],
   "source": [
    "df_train_minSorted.to_csv('trainingMin.csv', index=False)\n"
   ]
  },
  {
   "cell_type": "markdown",
   "id": "19abc0ee-88a5-4b20-a256-f638dc8fe4e7",
   "metadata": {},
   "source": [
    "### Testing Data"
   ]
  },
  {
   "cell_type": "code",
   "execution_count": 12,
   "id": "a047e291-d37e-46cb-8b7b-fc168dc00afb",
   "metadata": {},
   "outputs": [],
   "source": [
    "df_2020min = pd.read_csv('BTC-2020min.csv')\n",
    "df_2021min = pd.read_csv('BTC-2021min.csv')"
   ]
  },
  {
   "cell_type": "code",
   "execution_count": 13,
   "id": "4f819f48-e186-448a-b102-132b67d82efd",
   "metadata": {},
   "outputs": [],
   "source": [
    "df_test_min = pd.concat([df_2020min, df_2021min], axis=0, ignore_index=True)"
   ]
  },
  {
   "cell_type": "code",
   "execution_count": 14,
   "id": "50f3dff9-0b62-40ea-bdb9-cb2ab7812c30",
   "metadata": {},
   "outputs": [
    {
     "data": {
      "text/plain": [
       "(1098504, 9)"
      ]
     },
     "execution_count": 14,
     "metadata": {},
     "output_type": "execute_result"
    }
   ],
   "source": [
    "df_test_min.shape"
   ]
  },
  {
   "cell_type": "code",
   "execution_count": 15,
   "id": "ec4457be-465c-4107-8cd9-6d8e44971ea3",
   "metadata": {},
   "outputs": [
    {
     "data": {
      "text/html": [
       "<div>\n",
       "<style scoped>\n",
       "    .dataframe tbody tr th:only-of-type {\n",
       "        vertical-align: middle;\n",
       "    }\n",
       "\n",
       "    .dataframe tbody tr th {\n",
       "        vertical-align: top;\n",
       "    }\n",
       "\n",
       "    .dataframe thead th {\n",
       "        text-align: right;\n",
       "    }\n",
       "</style>\n",
       "<table border=\"1\" class=\"dataframe\">\n",
       "  <thead>\n",
       "    <tr style=\"text-align: right;\">\n",
       "      <th></th>\n",
       "      <th>unix</th>\n",
       "      <th>open</th>\n",
       "      <th>high</th>\n",
       "      <th>low</th>\n",
       "      <th>close</th>\n",
       "      <th>Volume BTC</th>\n",
       "      <th>Volume USD</th>\n",
       "    </tr>\n",
       "  </thead>\n",
       "  <tbody>\n",
       "    <tr>\n",
       "      <th>count</th>\n",
       "      <td>1.098504e+06</td>\n",
       "      <td>1.098504e+06</td>\n",
       "      <td>1.098504e+06</td>\n",
       "      <td>1.098504e+06</td>\n",
       "      <td>1.098504e+06</td>\n",
       "      <td>1.098504e+06</td>\n",
       "      <td>1.098504e+06</td>\n",
       "    </tr>\n",
       "    <tr>\n",
       "      <th>mean</th>\n",
       "      <td>1.612140e+09</td>\n",
       "      <td>3.047026e+04</td>\n",
       "      <td>3.048801e+04</td>\n",
       "      <td>3.045227e+04</td>\n",
       "      <td>3.047050e+04</td>\n",
       "      <td>4.352495e+00</td>\n",
       "      <td>1.035479e+05</td>\n",
       "    </tr>\n",
       "    <tr>\n",
       "      <th>std</th>\n",
       "      <td>2.003641e+07</td>\n",
       "      <td>1.941054e+04</td>\n",
       "      <td>1.942106e+04</td>\n",
       "      <td>1.939958e+04</td>\n",
       "      <td>1.941066e+04</td>\n",
       "      <td>1.274825e+01</td>\n",
       "      <td>2.717730e+05</td>\n",
       "    </tr>\n",
       "    <tr>\n",
       "      <th>min</th>\n",
       "      <td>1.577837e+09</td>\n",
       "      <td>3.858270e+03</td>\n",
       "      <td>3.927050e+03</td>\n",
       "      <td>3.850000e+03</td>\n",
       "      <td>3.865000e+03</td>\n",
       "      <td>0.000000e+00</td>\n",
       "      <td>0.000000e+00</td>\n",
       "    </tr>\n",
       "    <tr>\n",
       "      <th>25%</th>\n",
       "      <td>1.594314e+09</td>\n",
       "      <td>9.771917e+03</td>\n",
       "      <td>9.777650e+03</td>\n",
       "      <td>9.767910e+03</td>\n",
       "      <td>9.772730e+03</td>\n",
       "      <td>2.116602e-01</td>\n",
       "      <td>4.807510e+03</td>\n",
       "    </tr>\n",
       "    <tr>\n",
       "      <th>50%</th>\n",
       "      <td>1.613151e+09</td>\n",
       "      <td>3.401113e+04</td>\n",
       "      <td>3.404150e+04</td>\n",
       "      <td>3.398523e+04</td>\n",
       "      <td>3.401205e+04</td>\n",
       "      <td>1.088620e+00</td>\n",
       "      <td>2.586908e+04</td>\n",
       "    </tr>\n",
       "    <tr>\n",
       "      <th>75%</th>\n",
       "      <td>1.629629e+09</td>\n",
       "      <td>4.759272e+04</td>\n",
       "      <td>4.761668e+04</td>\n",
       "      <td>4.756643e+04</td>\n",
       "      <td>4.759274e+04</td>\n",
       "      <td>3.779959e+00</td>\n",
       "      <td>9.328378e+04</td>\n",
       "    </tr>\n",
       "    <tr>\n",
       "      <th>max</th>\n",
       "      <td>1.646106e+09</td>\n",
       "      <td>6.900000e+04</td>\n",
       "      <td>6.900000e+04</td>\n",
       "      <td>6.879999e+04</td>\n",
       "      <td>6.900000e+04</td>\n",
       "      <td>1.098349e+03</td>\n",
       "      <td>1.396792e+07</td>\n",
       "    </tr>\n",
       "  </tbody>\n",
       "</table>\n",
       "</div>"
      ],
      "text/plain": [
       "               unix          open          high           low         close  \\\n",
       "count  1.098504e+06  1.098504e+06  1.098504e+06  1.098504e+06  1.098504e+06   \n",
       "mean   1.612140e+09  3.047026e+04  3.048801e+04  3.045227e+04  3.047050e+04   \n",
       "std    2.003641e+07  1.941054e+04  1.942106e+04  1.939958e+04  1.941066e+04   \n",
       "min    1.577837e+09  3.858270e+03  3.927050e+03  3.850000e+03  3.865000e+03   \n",
       "25%    1.594314e+09  9.771917e+03  9.777650e+03  9.767910e+03  9.772730e+03   \n",
       "50%    1.613151e+09  3.401113e+04  3.404150e+04  3.398523e+04  3.401205e+04   \n",
       "75%    1.629629e+09  4.759272e+04  4.761668e+04  4.756643e+04  4.759274e+04   \n",
       "max    1.646106e+09  6.900000e+04  6.900000e+04  6.879999e+04  6.900000e+04   \n",
       "\n",
       "         Volume BTC    Volume USD  \n",
       "count  1.098504e+06  1.098504e+06  \n",
       "mean   4.352495e+00  1.035479e+05  \n",
       "std    1.274825e+01  2.717730e+05  \n",
       "min    0.000000e+00  0.000000e+00  \n",
       "25%    2.116602e-01  4.807510e+03  \n",
       "50%    1.088620e+00  2.586908e+04  \n",
       "75%    3.779959e+00  9.328378e+04  \n",
       "max    1.098349e+03  1.396792e+07  "
      ]
     },
     "execution_count": 15,
     "metadata": {},
     "output_type": "execute_result"
    }
   ],
   "source": [
    "df_test_min.describe()"
   ]
  },
  {
   "cell_type": "code",
   "execution_count": 16,
   "id": "2d263230-1c0b-4e0d-85d2-805e4415ed39",
   "metadata": {},
   "outputs": [
    {
     "name": "stdout",
     "output_type": "stream",
     "text": [
      "<class 'pandas.core.frame.DataFrame'>\n",
      "RangeIndex: 1098504 entries, 0 to 1098503\n",
      "Data columns (total 9 columns):\n",
      " #   Column      Non-Null Count    Dtype  \n",
      "---  ------      --------------    -----  \n",
      " 0   unix        1098504 non-null  int64  \n",
      " 1   date        1098504 non-null  object \n",
      " 2   symbol      1098504 non-null  object \n",
      " 3   open        1098504 non-null  float64\n",
      " 4   high        1098504 non-null  float64\n",
      " 5   low         1098504 non-null  float64\n",
      " 6   close       1098504 non-null  float64\n",
      " 7   Volume BTC  1098504 non-null  float64\n",
      " 8   Volume USD  1098504 non-null  float64\n",
      "dtypes: float64(6), int64(1), object(2)\n",
      "memory usage: 75.4+ MB\n"
     ]
    }
   ],
   "source": [
    "df_test_min.info()"
   ]
  },
  {
   "cell_type": "code",
   "execution_count": 17,
   "id": "3ee96c37-31db-4e8f-b141-e3e9b3f476d9",
   "metadata": {},
   "outputs": [
    {
     "data": {
      "text/plain": [
       "unix          0\n",
       "date          0\n",
       "symbol        0\n",
       "open          0\n",
       "high          0\n",
       "low           0\n",
       "close         0\n",
       "Volume BTC    0\n",
       "Volume USD    0\n",
       "dtype: int64"
      ]
     },
     "execution_count": 17,
     "metadata": {},
     "output_type": "execute_result"
    }
   ],
   "source": [
    "df_test_min.isnull().sum()"
   ]
  },
  {
   "cell_type": "code",
   "execution_count": 18,
   "id": "999f7cd9-cf8c-4aab-8738-39070317e2bf",
   "metadata": {},
   "outputs": [],
   "source": [
    "df_test_minSorted= df_test_min.sort_values(by='date', ascending=True)\n",
    "df_test_minSorted.to_csv('testMin.csv', index=False)"
   ]
  },
  {
   "cell_type": "markdown",
   "id": "e8977242-491b-463b-ba5e-a390754f7d80",
   "metadata": {},
   "source": [
    "# Hourly"
   ]
  },
  {
   "cell_type": "code",
   "execution_count": 19,
   "id": "afc338a6-c15b-4279-a252-6fd9295a8426",
   "metadata": {},
   "outputs": [],
   "source": [
    "df_hour = pd.read_csv('BTC-Hourly.csv')"
   ]
  },
  {
   "cell_type": "code",
   "execution_count": 20,
   "id": "a4d23fa9-c8ec-4aad-9a0e-a7bfc0ff8130",
   "metadata": {},
   "outputs": [
    {
     "data": {
      "text/plain": [
       "(33259, 9)"
      ]
     },
     "execution_count": 20,
     "metadata": {},
     "output_type": "execute_result"
    }
   ],
   "source": [
    "df_hour.shape"
   ]
  },
  {
   "cell_type": "code",
   "execution_count": 21,
   "id": "ff1934af-0584-4aec-a602-a90f41e843cc",
   "metadata": {},
   "outputs": [
    {
     "data": {
      "text/html": [
       "<div>\n",
       "<style scoped>\n",
       "    .dataframe tbody tr th:only-of-type {\n",
       "        vertical-align: middle;\n",
       "    }\n",
       "\n",
       "    .dataframe tbody tr th {\n",
       "        vertical-align: top;\n",
       "    }\n",
       "\n",
       "    .dataframe thead th {\n",
       "        text-align: right;\n",
       "    }\n",
       "</style>\n",
       "<table border=\"1\" class=\"dataframe\">\n",
       "  <thead>\n",
       "    <tr style=\"text-align: right;\">\n",
       "      <th></th>\n",
       "      <th>unix</th>\n",
       "      <th>open</th>\n",
       "      <th>high</th>\n",
       "      <th>low</th>\n",
       "      <th>close</th>\n",
       "      <th>Volume BTC</th>\n",
       "      <th>Volume USD</th>\n",
       "    </tr>\n",
       "  </thead>\n",
       "  <tbody>\n",
       "    <tr>\n",
       "      <th>count</th>\n",
       "      <td>3.325900e+04</td>\n",
       "      <td>33259.000000</td>\n",
       "      <td>33259.000000</td>\n",
       "      <td>33259.000000</td>\n",
       "      <td>33259.000000</td>\n",
       "      <td>3.325900e+04</td>\n",
       "      <td>3.325900e+04</td>\n",
       "    </tr>\n",
       "    <tr>\n",
       "      <th>mean</th>\n",
       "      <td>1.586228e+09</td>\n",
       "      <td>20119.546772</td>\n",
       "      <td>20232.957473</td>\n",
       "      <td>19997.069777</td>\n",
       "      <td>20120.684800</td>\n",
       "      <td>1.612380e+06</td>\n",
       "      <td>2.965701e+06</td>\n",
       "    </tr>\n",
       "    <tr>\n",
       "      <th>std</th>\n",
       "      <td>3.456429e+07</td>\n",
       "      <td>18537.219607</td>\n",
       "      <td>18646.950933</td>\n",
       "      <td>18418.320297</td>\n",
       "      <td>18537.695044</td>\n",
       "      <td>3.102328e+06</td>\n",
       "      <td>7.329787e+06</td>\n",
       "    </tr>\n",
       "    <tr>\n",
       "      <th>min</th>\n",
       "      <td>1.526364e+09</td>\n",
       "      <td>3139.760000</td>\n",
       "      <td>3158.340000</td>\n",
       "      <td>3122.280000</td>\n",
       "      <td>3139.760000</td>\n",
       "      <td>0.000000e+00</td>\n",
       "      <td>0.000000e+00</td>\n",
       "    </tr>\n",
       "    <tr>\n",
       "      <th>25%</th>\n",
       "      <td>1.556296e+09</td>\n",
       "      <td>7022.865000</td>\n",
       "      <td>7055.835000</td>\n",
       "      <td>6970.570000</td>\n",
       "      <td>7022.865000</td>\n",
       "      <td>1.903241e+02</td>\n",
       "      <td>1.682800e+02</td>\n",
       "    </tr>\n",
       "    <tr>\n",
       "      <th>50%</th>\n",
       "      <td>1.586228e+09</td>\n",
       "      <td>9700.040000</td>\n",
       "      <td>9740.270000</td>\n",
       "      <td>9657.000000</td>\n",
       "      <td>9700.320000</td>\n",
       "      <td>6.093271e+05</td>\n",
       "      <td>5.248300e+02</td>\n",
       "    </tr>\n",
       "    <tr>\n",
       "      <th>75%</th>\n",
       "      <td>1.616161e+09</td>\n",
       "      <td>36415.305000</td>\n",
       "      <td>36735.380000</td>\n",
       "      <td>36104.235000</td>\n",
       "      <td>36423.040000</td>\n",
       "      <td>1.929240e+06</td>\n",
       "      <td>3.120014e+06</td>\n",
       "    </tr>\n",
       "    <tr>\n",
       "      <th>max</th>\n",
       "      <td>1.646093e+09</td>\n",
       "      <td>68635.050000</td>\n",
       "      <td>69000.000000</td>\n",
       "      <td>68447.000000</td>\n",
       "      <td>68627.010000</td>\n",
       "      <td>6.857061e+07</td>\n",
       "      <td>2.582324e+08</td>\n",
       "    </tr>\n",
       "  </tbody>\n",
       "</table>\n",
       "</div>"
      ],
      "text/plain": [
       "               unix          open          high           low         close  \\\n",
       "count  3.325900e+04  33259.000000  33259.000000  33259.000000  33259.000000   \n",
       "mean   1.586228e+09  20119.546772  20232.957473  19997.069777  20120.684800   \n",
       "std    3.456429e+07  18537.219607  18646.950933  18418.320297  18537.695044   \n",
       "min    1.526364e+09   3139.760000   3158.340000   3122.280000   3139.760000   \n",
       "25%    1.556296e+09   7022.865000   7055.835000   6970.570000   7022.865000   \n",
       "50%    1.586228e+09   9700.040000   9740.270000   9657.000000   9700.320000   \n",
       "75%    1.616161e+09  36415.305000  36735.380000  36104.235000  36423.040000   \n",
       "max    1.646093e+09  68635.050000  69000.000000  68447.000000  68627.010000   \n",
       "\n",
       "         Volume BTC    Volume USD  \n",
       "count  3.325900e+04  3.325900e+04  \n",
       "mean   1.612380e+06  2.965701e+06  \n",
       "std    3.102328e+06  7.329787e+06  \n",
       "min    0.000000e+00  0.000000e+00  \n",
       "25%    1.903241e+02  1.682800e+02  \n",
       "50%    6.093271e+05  5.248300e+02  \n",
       "75%    1.929240e+06  3.120014e+06  \n",
       "max    6.857061e+07  2.582324e+08  "
      ]
     },
     "execution_count": 21,
     "metadata": {},
     "output_type": "execute_result"
    }
   ],
   "source": [
    "df_hour.describe()"
   ]
  },
  {
   "cell_type": "code",
   "execution_count": 22,
   "id": "23074b13-3469-4a4f-b5f5-f4b52b7226fa",
   "metadata": {},
   "outputs": [
    {
     "name": "stdout",
     "output_type": "stream",
     "text": [
      "<class 'pandas.core.frame.DataFrame'>\n",
      "RangeIndex: 33259 entries, 0 to 33258\n",
      "Data columns (total 9 columns):\n",
      " #   Column      Non-Null Count  Dtype  \n",
      "---  ------      --------------  -----  \n",
      " 0   unix        33259 non-null  int64  \n",
      " 1   date        33259 non-null  object \n",
      " 2   symbol      33259 non-null  object \n",
      " 3   open        33259 non-null  float64\n",
      " 4   high        33259 non-null  float64\n",
      " 5   low         33259 non-null  float64\n",
      " 6   close       33259 non-null  float64\n",
      " 7   Volume BTC  33259 non-null  float64\n",
      " 8   Volume USD  33259 non-null  float64\n",
      "dtypes: float64(6), int64(1), object(2)\n",
      "memory usage: 2.3+ MB\n"
     ]
    }
   ],
   "source": [
    "df_hour.info()"
   ]
  },
  {
   "cell_type": "code",
   "execution_count": 23,
   "id": "f16ac287-a985-4b1a-bdda-1f44fc005bdc",
   "metadata": {},
   "outputs": [
    {
     "data": {
      "text/plain": [
       "unix          0\n",
       "date          0\n",
       "symbol        0\n",
       "open          0\n",
       "high          0\n",
       "low           0\n",
       "close         0\n",
       "Volume BTC    0\n",
       "Volume USD    0\n",
       "dtype: int64"
      ]
     },
     "execution_count": 23,
     "metadata": {},
     "output_type": "execute_result"
    }
   ],
   "source": [
    "df_hour.isnull().sum()"
   ]
  },
  {
   "cell_type": "code",
   "execution_count": 24,
   "id": "6c6cdea0-7297-4167-852b-dd00ff8a81f1",
   "metadata": {},
   "outputs": [],
   "source": [
    "df_train_hour = df_hour[df_hour['date'] <= '2019-12-31 23:59:00']\n",
    "df_test_hour = df_hour[df_hour['date'] > '2019-12-31 23:59:00']"
   ]
  },
  {
   "cell_type": "code",
   "execution_count": 25,
   "id": "06949a5f-c0a3-4783-a5f0-55fb27c29610",
   "metadata": {},
   "outputs": [],
   "source": [
    "df_train_hourSorted= df_train_hour.sort_values(by='date', ascending=True)\n",
    "df_train_hourSorted.to_csv('trainingHourly.csv', index=False)"
   ]
  },
  {
   "cell_type": "code",
   "execution_count": 26,
   "id": "693e3cc8-68bb-4b87-9926-aeee8014029d",
   "metadata": {},
   "outputs": [],
   "source": [
    "df_test_hourSorted= df_test_hour.sort_values(by='date', ascending=True)\n",
    "df_test_hourSorted.to_csv('testHourly.csv', index=False)"
   ]
  },
  {
   "cell_type": "markdown",
   "id": "f9c00a02-3102-41fa-95d9-e9a509f24019",
   "metadata": {},
   "source": [
    "# Daily"
   ]
  },
  {
   "cell_type": "code",
   "execution_count": 27,
   "id": "574818d3-0662-4cbe-8e21-6f619be886f5",
   "metadata": {},
   "outputs": [],
   "source": [
    "df_daily = pd.read_csv('BTC-Daily.csv')"
   ]
  },
  {
   "cell_type": "code",
   "execution_count": 28,
   "id": "731df40b-4765-4606-968b-1712d6d53f7b",
   "metadata": {},
   "outputs": [
    {
     "data": {
      "text/plain": [
       "(2651, 9)"
      ]
     },
     "execution_count": 28,
     "metadata": {},
     "output_type": "execute_result"
    }
   ],
   "source": [
    "df_daily.shape"
   ]
  },
  {
   "cell_type": "code",
   "execution_count": 29,
   "id": "358b0ae9-186a-4fc0-8700-b8b6f00a8d22",
   "metadata": {},
   "outputs": [
    {
     "data": {
      "text/html": [
       "<div>\n",
       "<style scoped>\n",
       "    .dataframe tbody tr th:only-of-type {\n",
       "        vertical-align: middle;\n",
       "    }\n",
       "\n",
       "    .dataframe tbody tr th {\n",
       "        vertical-align: top;\n",
       "    }\n",
       "\n",
       "    .dataframe thead th {\n",
       "        text-align: right;\n",
       "    }\n",
       "</style>\n",
       "<table border=\"1\" class=\"dataframe\">\n",
       "  <thead>\n",
       "    <tr style=\"text-align: right;\">\n",
       "      <th></th>\n",
       "      <th>unix</th>\n",
       "      <th>open</th>\n",
       "      <th>high</th>\n",
       "      <th>low</th>\n",
       "      <th>close</th>\n",
       "      <th>Volume BTC</th>\n",
       "      <th>Volume USD</th>\n",
       "    </tr>\n",
       "  </thead>\n",
       "  <tbody>\n",
       "    <tr>\n",
       "      <th>count</th>\n",
       "      <td>2.651000e+03</td>\n",
       "      <td>2651.000000</td>\n",
       "      <td>2651.000000</td>\n",
       "      <td>2651.000000</td>\n",
       "      <td>2651.000000</td>\n",
       "      <td>2.651000e+03</td>\n",
       "      <td>2.651000e+03</td>\n",
       "    </tr>\n",
       "    <tr>\n",
       "      <th>mean</th>\n",
       "      <td>1.531613e+09</td>\n",
       "      <td>11693.189332</td>\n",
       "      <td>12038.562912</td>\n",
       "      <td>11296.539461</td>\n",
       "      <td>11709.326213</td>\n",
       "      <td>1.330041e+07</td>\n",
       "      <td>6.099369e+07</td>\n",
       "    </tr>\n",
       "    <tr>\n",
       "      <th>std</th>\n",
       "      <td>6.613247e+07</td>\n",
       "      <td>16272.554746</td>\n",
       "      <td>16739.237000</td>\n",
       "      <td>15718.297511</td>\n",
       "      <td>16282.908704</td>\n",
       "      <td>4.715366e+07</td>\n",
       "      <td>1.072838e+08</td>\n",
       "    </tr>\n",
       "    <tr>\n",
       "      <th>min</th>\n",
       "      <td>1.417133e+09</td>\n",
       "      <td>162.000000</td>\n",
       "      <td>212.840000</td>\n",
       "      <td>152.400000</td>\n",
       "      <td>162.000000</td>\n",
       "      <td>0.000000e+00</td>\n",
       "      <td>0.000000e+00</td>\n",
       "    </tr>\n",
       "    <tr>\n",
       "      <th>25%</th>\n",
       "      <td>1.474373e+09</td>\n",
       "      <td>654.680000</td>\n",
       "      <td>664.460000</td>\n",
       "      <td>640.050000</td>\n",
       "      <td>654.370000</td>\n",
       "      <td>5.357883e+03</td>\n",
       "      <td>9.516170e+03</td>\n",
       "    </tr>\n",
       "    <tr>\n",
       "      <th>50%</th>\n",
       "      <td>1.531613e+09</td>\n",
       "      <td>6408.950000</td>\n",
       "      <td>6540.000000</td>\n",
       "      <td>6312.000000</td>\n",
       "      <td>6407.770000</td>\n",
       "      <td>1.503310e+04</td>\n",
       "      <td>2.288982e+07</td>\n",
       "    </tr>\n",
       "    <tr>\n",
       "      <th>75%</th>\n",
       "      <td>1.588853e+09</td>\n",
       "      <td>10708.620000</td>\n",
       "      <td>10956.240000</td>\n",
       "      <td>10303.755000</td>\n",
       "      <td>10726.425000</td>\n",
       "      <td>3.435336e+06</td>\n",
       "      <td>8.018383e+07</td>\n",
       "    </tr>\n",
       "    <tr>\n",
       "      <th>max</th>\n",
       "      <td>1.646093e+09</td>\n",
       "      <td>67547.490000</td>\n",
       "      <td>69000.000000</td>\n",
       "      <td>66250.000000</td>\n",
       "      <td>67559.000000</td>\n",
       "      <td>7.723295e+08</td>\n",
       "      <td>1.446125e+09</td>\n",
       "    </tr>\n",
       "  </tbody>\n",
       "</table>\n",
       "</div>"
      ],
      "text/plain": [
       "               unix          open          high           low         close  \\\n",
       "count  2.651000e+03   2651.000000   2651.000000   2651.000000   2651.000000   \n",
       "mean   1.531613e+09  11693.189332  12038.562912  11296.539461  11709.326213   \n",
       "std    6.613247e+07  16272.554746  16739.237000  15718.297511  16282.908704   \n",
       "min    1.417133e+09    162.000000    212.840000    152.400000    162.000000   \n",
       "25%    1.474373e+09    654.680000    664.460000    640.050000    654.370000   \n",
       "50%    1.531613e+09   6408.950000   6540.000000   6312.000000   6407.770000   \n",
       "75%    1.588853e+09  10708.620000  10956.240000  10303.755000  10726.425000   \n",
       "max    1.646093e+09  67547.490000  69000.000000  66250.000000  67559.000000   \n",
       "\n",
       "         Volume BTC    Volume USD  \n",
       "count  2.651000e+03  2.651000e+03  \n",
       "mean   1.330041e+07  6.099369e+07  \n",
       "std    4.715366e+07  1.072838e+08  \n",
       "min    0.000000e+00  0.000000e+00  \n",
       "25%    5.357883e+03  9.516170e+03  \n",
       "50%    1.503310e+04  2.288982e+07  \n",
       "75%    3.435336e+06  8.018383e+07  \n",
       "max    7.723295e+08  1.446125e+09  "
      ]
     },
     "execution_count": 29,
     "metadata": {},
     "output_type": "execute_result"
    }
   ],
   "source": [
    "df_daily.describe()"
   ]
  },
  {
   "cell_type": "code",
   "execution_count": 30,
   "id": "b8f98e4a-1a61-45b3-9566-dadc4aa0dd82",
   "metadata": {},
   "outputs": [
    {
     "name": "stdout",
     "output_type": "stream",
     "text": [
      "<class 'pandas.core.frame.DataFrame'>\n",
      "RangeIndex: 2651 entries, 0 to 2650\n",
      "Data columns (total 9 columns):\n",
      " #   Column      Non-Null Count  Dtype  \n",
      "---  ------      --------------  -----  \n",
      " 0   unix        2651 non-null   int64  \n",
      " 1   date        2651 non-null   object \n",
      " 2   symbol      2651 non-null   object \n",
      " 3   open        2651 non-null   float64\n",
      " 4   high        2651 non-null   float64\n",
      " 5   low         2651 non-null   float64\n",
      " 6   close       2651 non-null   float64\n",
      " 7   Volume BTC  2651 non-null   float64\n",
      " 8   Volume USD  2651 non-null   float64\n",
      "dtypes: float64(6), int64(1), object(2)\n",
      "memory usage: 186.5+ KB\n"
     ]
    }
   ],
   "source": [
    "df_daily.info()"
   ]
  },
  {
   "cell_type": "code",
   "execution_count": 31,
   "id": "a3ef0690-ea29-45db-b983-9b294cb197a4",
   "metadata": {},
   "outputs": [
    {
     "data": {
      "text/plain": [
       "unix          0\n",
       "date          0\n",
       "symbol        0\n",
       "open          0\n",
       "high          0\n",
       "low           0\n",
       "close         0\n",
       "Volume BTC    0\n",
       "Volume USD    0\n",
       "dtype: int64"
      ]
     },
     "execution_count": 31,
     "metadata": {},
     "output_type": "execute_result"
    }
   ],
   "source": [
    "df_daily.isnull().sum()"
   ]
  },
  {
   "cell_type": "code",
   "execution_count": 32,
   "id": "bc3e9c06-2d11-451c-9db2-e50aec489504",
   "metadata": {},
   "outputs": [],
   "source": [
    "df_train_day = df_daily[df_daily['date'] <= '2019-12-31 23:59:00']\n",
    "df_test_day = df_daily[df_daily['date'] > '2019-12-31 23:59:00']"
   ]
  },
  {
   "cell_type": "code",
   "execution_count": 33,
   "id": "0b05d1d8-661a-427a-a344-6e2a7c97e656",
   "metadata": {},
   "outputs": [],
   "source": [
    "df_train_daySorted= df_train_day.sort_values(by='date', ascending=True)\n",
    "df_train_daySorted.to_csv('trainingDaily.csv', index=False)"
   ]
  },
  {
   "cell_type": "code",
   "execution_count": 34,
   "id": "a7e855bf-1cf5-4e34-8383-9b3c9db6c362",
   "metadata": {},
   "outputs": [],
   "source": [
    "df_test_daySorted= df_test_day.sort_values(by='date', ascending=True)\n",
    "df_test_daySorted.to_csv('testDaily.csv', index=False)"
   ]
  },
  {
   "cell_type": "code",
   "execution_count": null,
   "id": "0991a102-b9e7-4a6e-9715-faee30d33c8d",
   "metadata": {},
   "outputs": [],
   "source": []
  }
 ],
 "metadata": {
  "kernelspec": {
   "display_name": "Python 3 (ipykernel)",
   "language": "python",
   "name": "python3"
  },
  "language_info": {
   "codemirror_mode": {
    "name": "ipython",
    "version": 3
   },
   "file_extension": ".py",
   "mimetype": "text/x-python",
   "name": "python",
   "nbconvert_exporter": "python",
   "pygments_lexer": "ipython3",
   "version": "3.12.3"
  }
 },
 "nbformat": 4,
 "nbformat_minor": 5
}
